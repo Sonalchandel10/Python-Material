{
 "cells": [
  {
   "cell_type": "code",
   "execution_count": 2,
   "id": "18e223de-086b-4338-aee1-b936f1369d7d",
   "metadata": {},
   "outputs": [
    {
     "name": "stdout",
     "output_type": "stream",
     "text": [
      "[10, 9, 8, 7, 6, 5, 4, 3, 2, 1]\n"
     ]
    }
   ],
   "source": [
    "A=[10,9,8,7,6,5,4,3,2,1]\n",
    "print(A)\n"
   ]
  },
  {
   "cell_type": "code",
   "execution_count": 13,
   "id": "7cf38967-a559-46da-a433-d996af235e91",
   "metadata": {},
   "outputs": [
    {
     "name": "stdout",
     "output_type": "stream",
     "text": [
      "10\n",
      "9\n",
      "8\n",
      "7\n",
      "6\n",
      "5\n",
      "4\n",
      "3\n",
      "2\n",
      "1\n"
     ]
    }
   ],
   "source": [
    "A=[11,10,9,8,7,6,5,4,3,2]\n",
    "for i in A:\n",
    "    i=i-1\n",
    "    print(i)"
   ]
  },
  {
   "cell_type": "code",
   "execution_count": 36,
   "id": "b78ddadb-0ab4-4cbe-adb8-23e57f5bf0f1",
   "metadata": {},
   "outputs": [
    {
     "data": {
      "text/plain": [
       "[1, 2, 3, 4]"
      ]
     },
     "execution_count": 36,
     "metadata": {},
     "output_type": "execute_result"
    }
   ],
   "source": [
    "A =[[1,2,3,4],[22,66,88],[67,89,54,[100,200]]\n",
    "A[0]"
   ]
  },
  {
   "cell_type": "code",
   "execution_count": 37,
   "id": "761a02ca-5c81-434f-8c6e-e3f2db620327",
   "metadata": {},
   "outputs": [
    {
     "data": {
      "text/plain": [
       "[22, 66, 88]"
      ]
     },
     "execution_count": 37,
     "metadata": {},
     "output_type": "execute_result"
    }
   ],
   "source": [
    "A[1]"
   ]
  },
  {
   "cell_type": "code",
   "execution_count": 41,
   "id": "c208d87b-2403-4d40-b373-94399916161f",
   "metadata": {},
   "outputs": [
    {
     "data": {
      "text/plain": [
       "[67, 89, 54, [100, 200]]"
      ]
     },
     "execution_count": 41,
     "metadata": {},
     "output_type": "execute_result"
    }
   ],
   "source": [
    "A[2]"
   ]
  },
  {
   "cell_type": "code",
   "execution_count": 43,
   "id": "a2331275-f189-4f78-991a-28504c1c3fe7",
   "metadata": {},
   "outputs": [
    {
     "data": {
      "text/plain": [
       "200"
      ]
     },
     "execution_count": 43,
     "metadata": {},
     "output_type": "execute_result"
    }
   ],
   "source": [
    "A[2][3][1]"
   ]
  },
  {
   "cell_type": "code",
   "execution_count": 45,
   "id": "72f7b66b-2640-4e5f-aa3a-469ff5f6c71f",
   "metadata": {},
   "outputs": [
    {
     "data": {
      "text/plain": [
       "'Hi'"
      ]
     },
     "execution_count": 45,
     "metadata": {},
     "output_type": "execute_result"
    }
   ],
   "source": [
    "A=[[1,2,3],[11,22,33,[500,502]],[45,[239,\"Hi\"],56,77]]\n",
    "A[2][1][1]"
   ]
  },
  {
   "cell_type": "code",
   "execution_count": 46,
   "id": "6bee66c9-4078-4017-b61e-33b6aaf968ee",
   "metadata": {},
   "outputs": [
    {
     "data": {
      "text/plain": [
       "77"
      ]
     },
     "execution_count": 46,
     "metadata": {},
     "output_type": "execute_result"
    }
   ],
   "source": [
    "A[2][3]"
   ]
  },
  {
   "cell_type": "code",
   "execution_count": 52,
   "id": "1e7ae9ae-c259-4bcd-b9ae-4fdc886d589c",
   "metadata": {},
   "outputs": [
    {
     "data": {
      "text/plain": [
       "'Hi'"
      ]
     },
     "execution_count": 52,
     "metadata": {},
     "output_type": "execute_result"
    }
   ],
   "source": [
    "A[-1][1][-1]"
   ]
  },
  {
   "cell_type": "code",
   "execution_count": 56,
   "id": "47fcd09c-f577-42b6-9b6c-295aa38c74ec",
   "metadata": {},
   "outputs": [
    {
     "data": {
      "text/plain": [
       "'Hi'"
      ]
     },
     "execution_count": 56,
     "metadata": {},
     "output_type": "execute_result"
    }
   ],
   "source": [
    "A[-1][-3][-1]"
   ]
  },
  {
   "cell_type": "code",
   "execution_count": 69,
   "id": "e7397284-27e4-4e89-b6fe-308b3bbdb14b",
   "metadata": {},
   "outputs": [
    {
     "data": {
      "text/plain": [
       "5000"
      ]
     },
     "execution_count": 69,
     "metadata": {},
     "output_type": "execute_result"
    }
   ],
   "source": [
    "amazon_cart = [[\"watch\",5000],[\"phone\",10000],[\"laptop\",50000]]\n",
    "\n",
    "total_cost=0\n",
    "amazon_cart[0][1]"
   ]
  },
  {
   "cell_type": "code",
   "execution_count": 71,
   "id": "39c13f4a-0814-4367-846d-fe38de09419f",
   "metadata": {},
   "outputs": [
    {
     "data": {
      "text/plain": [
       "10000"
      ]
     },
     "execution_count": 71,
     "metadata": {},
     "output_type": "execute_result"
    }
   ],
   "source": [
    "amazon_cart[1][1]"
   ]
  },
  {
   "cell_type": "code",
   "execution_count": 74,
   "id": "1ad49d16-7308-4d5c-9d53-50fca0e37f94",
   "metadata": {},
   "outputs": [
    {
     "data": {
      "text/plain": [
       "50000"
      ]
     },
     "execution_count": 74,
     "metadata": {},
     "output_type": "execute_result"
    }
   ],
   "source": [
    "amazon_cart[2][1]"
   ]
  },
  {
   "cell_type": "code",
   "execution_count": 76,
   "id": "55cee2f6-c893-4ced-838b-0bc916e53070",
   "metadata": {},
   "outputs": [
    {
     "data": {
      "text/plain": [
       "65000"
      ]
     },
     "execution_count": 76,
     "metadata": {},
     "output_type": "execute_result"
    }
   ],
   "source": [
    "amazon_cart[0][1]+amazon_cart[1][1]+amazon_cart[2][1]"
   ]
  },
  {
   "cell_type": "code",
   "execution_count": 104,
   "id": "8d26b0fb-7566-4afe-aba9-35f329a61d75",
   "metadata": {},
   "outputs": [
    {
     "name": "stdout",
     "output_type": "stream",
     "text": [
      "5000\n",
      "5000\n",
      "10000\n",
      "15000\n",
      "50000\n",
      "65000\n"
     ]
    }
   ],
   "source": [
    "total_cost=0\n",
    "for i in range(len(amazon_cart)):\n",
    "    print(amazon_cart[i][1])\n",
    "    total_cost=total_cost+amazon_cart[i][1]\n",
    "    print(total_cost)"
   ]
  },
  {
   "cell_type": "code",
   "execution_count": 110,
   "id": "da90dada-b4a0-4f54-8f6c-a4c2cceba250",
   "metadata": {},
   "outputs": [
    {
     "name": "stdout",
     "output_type": "stream",
     "text": [
      "5000\n",
      "10000\n",
      "50000\n",
      "65000\n"
     ]
    }
   ],
   "source": [
    "total_cost=0\n",
    "for item in amazon_cart:\n",
    "    print(item[1])\n",
    "    total_cost=total_cost+item[1]\n",
    "    \n",
    "print(total_cost)"
   ]
  },
  {
   "cell_type": "code",
   "execution_count": null,
   "id": "6d9c379e-2458-4cc2-af0c-0b90a2fe2278",
   "metadata": {},
   "outputs": [],
   "source": []
  }
 ],
 "metadata": {
  "kernelspec": {
   "display_name": "Python 3 (ipykernel)",
   "language": "python",
   "name": "python3"
  },
  "language_info": {
   "codemirror_mode": {
    "name": "ipython",
    "version": 3
   },
   "file_extension": ".py",
   "mimetype": "text/x-python",
   "name": "python",
   "nbconvert_exporter": "python",
   "pygments_lexer": "ipython3",
   "version": "3.10.6"
  }
 },
 "nbformat": 4,
 "nbformat_minor": 5
}
